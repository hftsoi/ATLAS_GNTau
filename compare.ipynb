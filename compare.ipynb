{
 "cells": [
  {
   "cell_type": "code",
   "execution_count": null,
   "id": "8c79a19f",
   "metadata": {},
   "outputs": [],
   "source": [
    "import numpy as np\n",
    "import pandas as pd\n",
    "import matplotlib.pyplot as plt\n",
    "from ATLAS_style import *\n",
    "set_atlas_style()"
   ]
  },
  {
   "cell_type": "code",
   "execution_count": null,
   "id": "71384c18-33be-4a1b-bddf-b6ddcdc76728",
   "metadata": {},
   "outputs": [],
   "source": [
    "file_HIST_ref = ROOT.TFile.Open(\"release_68/out.HIST.root\")\n",
    "file_HIST_new = ROOT.TFile.Open(\"release_72/out.HIST.root\")"
   ]
  },
  {
   "cell_type": "code",
   "execution_count": null,
   "id": "1cd99478-6414-42d8-a4fc-17abfd7a60c3",
   "metadata": {},
   "outputs": [],
   "source": [
    "eff_ref = file_HIST_ref.Get(\"run_470000/HLT/TauMon/HLT_Efficiency/HLT_tau20_mediumRNN_tracktwoMVA_L1TAU8/HLT_Efficiency_1P/EffHLT_averageMu_wrt_Offline\")\n",
    "eff_new = file_HIST_new.Get(\"run_470000/HLT/TauMon/HLT_Efficiency/HLT_tau20_mediumRNN_tracktwoMVA_L1TAU8/HLT_Efficiency_1P/EffHLT_averageMu_wrt_Offline\")"
   ]
  },
  {
   "cell_type": "code",
   "execution_count": null,
   "id": "72c6af46-2cc5-42f7-b640-e5bd14c6024f",
   "metadata": {},
   "outputs": [],
   "source": [
    "canvas = None\n",
    "legend = None\n",
    "\n",
    "def compare_eff(eff_ref, eff_new):\n",
    "    global canvas\n",
    "    canvas = ROOT.TCanvas(f\"canvas_{ROOT.gRandom.Integer(10000)}\", \"\", 800, 600)\n",
    "    \n",
    "    eff_ref.SetLineColor(ROOT.kBlack)\n",
    "    eff_new.SetLineColor(ROOT.kRed)\n",
    "    \n",
    "    eff_ref.Draw(\"AP\")\n",
    "    eff_new.Draw(\"P SAME\")\n",
    "\n",
    "    global legend\n",
    "    legend = ROOT.TLegend(0.8, 0.8, 0.9, 0.9)\n",
    "    legend.AddEntry(eff_ref, \"ref\", \"lp\")\n",
    "    legend.AddEntry(eff_new, \"new\", \"lp\")\n",
    "    legend.Draw()\n",
    "\n",
    "    canvas.Update()\n",
    "    ATLASlabel(0.6, 0.9, \"Internal\")\n",
    "    canvas.Draw()\n",
    "\n",
    "compare_eff(eff_ref, eff_new)"
   ]
  },
  {
   "cell_type": "code",
   "execution_count": null,
   "id": "23eecdbc-9af1-4173-a254-e37f1c5ece21",
   "metadata": {},
   "outputs": [],
   "source": []
  },
  {
   "cell_type": "code",
   "execution_count": null,
   "id": "7fda3f69-8774-4f00-996b-e68538907d92",
   "metadata": {},
   "outputs": [],
   "source": []
  },
  {
   "cell_type": "code",
   "execution_count": null,
   "id": "1674dded-a7ca-4da9-93e2-fe016f3ec93f",
   "metadata": {},
   "outputs": [],
   "source": []
  }
 ],
 "metadata": {
  "kernelspec": {
   "display_name": "Python 3 (ipykernel)",
   "language": "python",
   "name": "python3"
  },
  "language_info": {
   "codemirror_mode": {
    "name": "ipython",
    "version": 3
   },
   "file_extension": ".py",
   "mimetype": "text/x-python",
   "name": "python",
   "nbconvert_exporter": "python",
   "pygments_lexer": "ipython3",
   "version": "3.9.20"
  }
 },
 "nbformat": 4,
 "nbformat_minor": 5
}
