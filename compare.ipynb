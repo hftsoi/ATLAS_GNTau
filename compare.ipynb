{
 "cells": [
  {
   "cell_type": "code",
   "execution_count": 1,
   "id": "8c79a19f",
   "metadata": {},
   "outputs": [
    {
     "name": "stderr",
     "output_type": "stream",
     "text": [
      "In module 'Darwin':\n",
      "/Applications/Xcode.app/Contents/Developer/Platforms/MacOSX.platform/Developer/SDKs/MacOSX.sdk/usr/include/libkern/arm/OSByteOrder.h:14:1: error: '_OSSwapInt16' has different definitions in different modules; definition in module 'Darwin.libkern.OSByteOrder' first difference is return type is 'uint16_t' (aka 'unsigned short')\n",
      "uint16_t\n",
      "^~~~~~~~\n",
      "/Applications/Xcode.app/Contents/Developer/Platforms/MacOSX.platform/Developer/SDKs/MacOSX.sdk/usr/include/libkern/arm/_OSByteOrder.h:49:1: note: but in 'DarwinFoundation.OSByteOrder' found different return type '__uint16_t' (aka 'unsigned short')\n",
      "__uint16_t\n",
      "^~~~~~~~~~\n",
      "In module 'Darwin':\n",
      "/Applications/Xcode.app/Contents/Developer/Platforms/MacOSX.platform/Developer/SDKs/MacOSX.sdk/usr/include/libkern/arm/OSByteOrder.h:24:1: error: '_OSSwapInt32' has different definitions in different modules; definition in module 'Darwin.libkern.OSByteOrder' first difference is return type is 'uint32_t' (aka 'unsigned int')\n",
      "uint32_t\n",
      "^~~~~~~~\n",
      "/Applications/Xcode.app/Contents/Developer/Platforms/MacOSX.platform/Developer/SDKs/MacOSX.sdk/usr/include/libkern/arm/_OSByteOrder.h:59:1: note: but in 'DarwinFoundation.OSByteOrder' found different return type '__uint32_t' (aka 'unsigned int')\n",
      "__uint32_t\n",
      "^~~~~~~~~~\n",
      "In module 'Darwin':\n",
      "/Applications/Xcode.app/Contents/Developer/Platforms/MacOSX.platform/Developer/SDKs/MacOSX.sdk/usr/include/libkern/arm/OSByteOrder.h:40:1: error: '_OSSwapInt64' has different definitions in different modules; definition in module 'Darwin.libkern.OSByteOrder' first difference is return type is 'uint64_t' (aka 'unsigned long long')\n",
      "uint64_t\n",
      "^~~~~~~~\n",
      "/Applications/Xcode.app/Contents/Developer/Platforms/MacOSX.platform/Developer/SDKs/MacOSX.sdk/usr/include/libkern/arm/_OSByteOrder.h:75:1: note: but in 'DarwinFoundation.OSByteOrder' found different return type '__uint64_t' (aka 'unsigned long long')\n",
      "__uint64_t\n",
      "^~~~~~~~~~\n"
     ]
    },
    {
     "name": "stdout",
     "output_type": "stream",
     "text": [
      "Welcome to JupyROOT 6.30/02\n",
      "\u001b[34;1mApplying ATLAS style settings\u001b[0m\n"
     ]
    }
   ],
   "source": [
    "import numpy as np\n",
    "import pandas as pd\n",
    "import matplotlib.pyplot as plt\n",
    "from ATLAS_style import *\n",
    "ROOT.gErrorIgnoreLevel = ROOT.kError\n",
    "set_atlas_style()"
   ]
  },
  {
   "cell_type": "code",
   "execution_count": 2,
   "id": "71384c18-33be-4a1b-bddf-b6ddcdc76728",
   "metadata": {},
   "outputs": [],
   "source": [
    "file_HIST_ref = ROOT.TFile.Open(\"release_68/out.HIST.root\")\n",
    "file_HIST_new = ROOT.TFile.Open(\"release_72/out.HIST.root\")"
   ]
  },
  {
   "cell_type": "code",
   "execution_count": 3,
   "id": "a892d4c1-ae00-42aa-95d2-d405d3552fc5",
   "metadata": {},
   "outputs": [
    {
     "name": "stdout",
     "output_type": "stream",
     "text": [
      "['HLT_tau160_idperf_trackLRT_L1eTAU140', 'HLT_tau160_idperf_tracktwoMVA_L1eTAU140', 'HLT_tau160_mediumRNN_trackLRT_L1eTAU140', 'HLT_tau160_mediumRNN_tracktwoMVA_L1TAU100', 'HLT_tau160_mediumRNN_tracktwoMVA_L1eTAU140', 'HLT_tau160_perf_tracktwoMVA_L1eTAU140', 'HLT_tau180_mediumRNN_tracktwoLLP_L1TAU100', 'HLT_tau180_mediumRNN_tracktwoLLP_L1eTAU140', 'HLT_tau20_idperf_tracktwoMVA_L1TAU8', 'HLT_tau20_idperf_tracktwoMVA_L1eTAU12', 'HLT_tau20_mediumRNN_tracktwoMVA_L1TAU8', 'HLT_tau20_mediumRNN_tracktwoMVA_L1eTAU12', 'HLT_tau20_perf_tracktwoMVA_L1eTAU12', 'HLT_tau25_idperf_trackLRT_L1TAU12IM', 'HLT_tau25_idperf_tracktwoMVA_L1TAU12IM', 'HLT_tau25_idperf_tracktwoMVA_L1cTAU20M', 'HLT_tau25_idperf_tracktwoMVA_L1eTAU20', 'HLT_tau25_idperf_tracktwoMVA_L1eTAU20M', 'HLT_tau25_idperf_tracktwoMVA_L1jTAU20', 'HLT_tau25_mediumRNN_trackLRT_L1TAU12IM', 'HLT_tau25_mediumRNN_tracktwoMVA_L1TAU12IM', 'HLT_tau25_mediumRNN_tracktwoMVA_L1cTAU20M', 'HLT_tau25_mediumRNN_tracktwoMVA_L1eTAU20', 'HLT_tau25_mediumRNN_tracktwoMVA_L1eTAU20M', 'HLT_tau25_mediumRNN_tracktwoMVA_L1jTAU20', 'HLT_tau25_perf_tracktwoMVA_L1cTAU20M', 'HLT_tau25_perf_tracktwoMVA_L1eTAU20', 'HLT_tau25_perf_tracktwoMVA_L1eTAU20M', 'HLT_tau25_perf_tracktwoMVA_L1jTAU20', 'HLT_tau35_idperf_tracktwoMVA_L1TAU20IM', 'HLT_tau35_idperf_tracktwoMVA_L1cTAU30M', 'HLT_tau35_idperf_tracktwoMVA_L1eTAU30', 'HLT_tau35_idperf_tracktwoMVA_L1jTAU30', 'HLT_tau35_idperf_tracktwoMVA_L1jTAU30M', 'HLT_tau35_mediumRNN_tracktwoMVA_L1TAU20IM', 'HLT_tau35_mediumRNN_tracktwoMVA_L1cTAU30M', 'HLT_tau35_mediumRNN_tracktwoMVA_L1eTAU30', 'HLT_tau35_mediumRNN_tracktwoMVA_L1jTAU30', 'HLT_tau35_mediumRNN_tracktwoMVA_L1jTAU30M', 'HLT_tau35_perf_tracktwoMVA_L1cTAU30M', 'HLT_tau35_perf_tracktwoMVA_L1eTAU30', 'HLT_tau35_perf_tracktwoMVA_L1jTAU30', 'HLT_tau35_perf_tracktwoMVA_L1jTAU30M', 'HLT_tau60_mediumRNN_tracktwoMVA_L1TAU40', 'HLT_tau60_mediumRNN_tracktwoMVA_L1eTAU60', 'HLT_tau80_idperf_trackLRT_L1TAU60', 'HLT_tau80_mediumRNN_tracktwoMVA_L1eTAU80']\n"
     ]
    }
   ],
   "source": [
    "base_dir = 'run_470000/HLT/TauMon/HLT_Efficiency'\n",
    "file_base_dir = file_HIST_ref.Get(base_dir)\n",
    "HLTpath_dir = []\n",
    "\n",
    "keys = file_base_dir.GetListOfKeys()\n",
    "for key in keys:\n",
    "    obj = key.ReadObj()\n",
    "    if obj.InheritsFrom(\"TDirectory\"):\n",
    "        HLTpath_dir.append(obj.GetName())\n",
    "\n",
    "print(HLTpath_dir)"
   ]
  },
  {
   "cell_type": "code",
   "execution_count": 4,
   "id": "cba5de08-e5d1-45da-8822-db0c034040ac",
   "metadata": {},
   "outputs": [],
   "source": [
    "HLTpath_subdir = ['HLT_Efficiency_1P', 'HLT_Efficiency_3P']\n",
    "HLTpath_eff = ['EffHLT_averageMu_wrt_Offline',\n",
    "               'EffHLT_tauEta_highPt_wrt_Offline', 'EffHLT_tauEta_wrt_Offline',\n",
    "               'EffHLT_tauPhi_highPt_wrt_Offline', 'EffHLT_tauPhi_wrt_Offline',\n",
    "               'EffHLT_tauPt_coarse_wrt_Offline', 'EffHLT_tauPt_wrt_Offline',\n",
    "              ]"
   ]
  },
  {
   "cell_type": "code",
   "execution_count": 8,
   "id": "72c6af46-2cc5-42f7-b640-e5bd14c6024f",
   "metadata": {},
   "outputs": [],
   "source": [
    "def compare_eff(path, eff_ref, eff_new, release_ref, release_new, ymin=0, ymax=1.6):\n",
    "    canvas = ROOT.TCanvas(path, \"\", 800, 600)\n",
    "    \n",
    "    eff_ref.SetLineColor(ROOT.kBlack)\n",
    "    eff_new.SetLineColor(ROOT.kRed)\n",
    "    \n",
    "    eff_ref.Draw(\"AP\")\n",
    "    eff_new.Draw(\"P SAME\")\n",
    "\n",
    "    canvas.Update()\n",
    "\n",
    "    graph_ref = eff_ref.GetPaintedGraph()\n",
    "    if graph_ref:\n",
    "        graph_ref.GetYaxis().SetRangeUser(ymin, ymax)\n",
    "\n",
    "    canvas.Modified()\n",
    "    canvas.Update()\n",
    "\n",
    "    legend = ROOT.TLegend(0.44, 0.87, 0.9, 0.7)\n",
    "    legend.SetHeader(\"aawefwfessssssssssssssswfew\")\n",
    "    header_entry = legend.GetListOfPrimitives().At(0)\n",
    "    header_entry.SetTextSize(20)\n",
    "    legend.SetTextSize(20)\n",
    "    legend.AddEntry(eff_ref, release_ref, \"lp\")\n",
    "    legend.AddEntry(eff_new, release_new, \"lp\")\n",
    "    legend.Draw()\n",
    "\n",
    "    canvas.Update()\n",
    "    ATLASlabel(0.45, 0.88, \"Internal\")\n",
    "\n",
    "    canvas.SaveAs(f\"plots/{path.replace('/', '_')}.png\")\n",
    "\n",
    "    del canvas, legend\n",
    "\n",
    "for HLT_path in HLTpath_dir:\n",
    "    for prong in HLTpath_subdir:\n",
    "        for eff in HLTpath_eff:\n",
    "            #print(base_dir + '/' + HLT_path + '/' + prong + '/' + eff)\n",
    "            eff_path = base_dir + '/' + HLT_path + '/' + prong + '/' + eff\n",
    "            compare_eff(eff_path,\n",
    "                        file_HIST_ref.Get(eff_path),\n",
    "                        file_HIST_new.Get(eff_path),\n",
    "                        '24.0.68',\n",
    "                        '24.0.72',\n",
    "                        ymin=0,\n",
    "                        ymax=1.6\n",
    "                       )"
   ]
  },
  {
   "cell_type": "code",
   "execution_count": null,
   "id": "7fda3f69-8774-4f00-996b-e68538907d92",
   "metadata": {},
   "outputs": [],
   "source": [
    "compare_eff(file_HIST_ref.Get(eff_path), file_HIST_new.Get(eff_path), '24.0.68', '24.0.72', ymin=0, ymax=1.6)"
   ]
  },
  {
   "cell_type": "code",
   "execution_count": null,
   "id": "1674dded-a7ca-4da9-93e2-fe016f3ec93f",
   "metadata": {},
   "outputs": [],
   "source": []
  }
 ],
 "metadata": {
  "kernelspec": {
   "display_name": "Python 3 (ipykernel)",
   "language": "python",
   "name": "python3"
  },
  "language_info": {
   "codemirror_mode": {
    "name": "ipython",
    "version": 3
   },
   "file_extension": ".py",
   "mimetype": "text/x-python",
   "name": "python",
   "nbconvert_exporter": "python",
   "pygments_lexer": "ipython3",
   "version": "3.9.20"
  }
 },
 "nbformat": 4,
 "nbformat_minor": 5
}
