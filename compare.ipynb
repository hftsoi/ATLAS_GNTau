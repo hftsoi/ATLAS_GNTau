{
 "cells": [
  {
   "cell_type": "code",
   "execution_count": null,
   "id": "8c79a19f",
   "metadata": {},
   "outputs": [],
   "source": [
    "import numpy as np\n",
    "import pandas as pd\n",
    "import matplotlib.pyplot as plt\n",
    "import os\n",
    "from ATLAS_style import *\n",
    "ROOT.gErrorIgnoreLevel = ROOT.kError\n",
    "set_atlas_style()"
   ]
  },
  {
   "cell_type": "code",
   "execution_count": null,
   "id": "71384c18-33be-4a1b-bddf-b6ddcdc76728",
   "metadata": {},
   "outputs": [],
   "source": [
    "file_HIST_ref = ROOT.TFile.Open(\"release_68/out.HIST.root\")\n",
    "file_HIST_new = ROOT.TFile.Open(\"release_72/out.HIST.root\")"
   ]
  },
  {
   "cell_type": "code",
   "execution_count": null,
   "id": "a892d4c1-ae00-42aa-95d2-d405d3552fc5",
   "metadata": {},
   "outputs": [],
   "source": [
    "base_dir = 'run_470000/HLT/TauMon/HLT_Efficiency'\n",
    "file_base_dir = file_HIST_ref.Get(base_dir)\n",
    "HLTpath_dir = []\n",
    "\n",
    "keys = file_base_dir.GetListOfKeys()\n",
    "for key in keys:\n",
    "    obj = key.ReadObj()\n",
    "    if obj.InheritsFrom(\"TDirectory\"):\n",
    "        HLTpath_dir.append(obj.GetName())\n",
    "\n",
    "HLTpath_subdir = ['HLT_Efficiency_1P', 'HLT_Efficiency_3P']\n",
    "HLTpath_eff = ['EffHLT_averageMu_wrt_Offline',\n",
    "               'EffHLT_tauEta_highPt_wrt_Offline', 'EffHLT_tauEta_wrt_Offline',\n",
    "               'EffHLT_tauPhi_highPt_wrt_Offline', 'EffHLT_tauPhi_wrt_Offline',\n",
    "               'EffHLT_tauPt_coarse_wrt_Offline', 'EffHLT_tauPt_wrt_Offline',\n",
    "              ]"
   ]
  },
  {
   "cell_type": "code",
   "execution_count": null,
   "id": "72c6af46-2cc5-42f7-b640-e5bd14c6024f",
   "metadata": {},
   "outputs": [],
   "source": [
    "def compare_eff(path, eff_ref, eff_new, release_ref, release_new, ymin=0, ymax=1.6):    \n",
    "    canvas = ROOT.TCanvas(path, \"\", 1000, 800)\n",
    "    \n",
    "    eff_ref.SetLineColor(ROOT.kBlack)\n",
    "    eff_new.SetLineColor(ROOT.kRed)\n",
    "    \n",
    "    eff_ref.Draw(\"AP\")\n",
    "    eff_new.Draw(\"P SAME\")\n",
    "\n",
    "    canvas.Update()\n",
    "\n",
    "    graph_ref = eff_ref.GetPaintedGraph()\n",
    "    if graph_ref:\n",
    "        graph_ref.GetYaxis().SetRangeUser(ymin, ymax)\n",
    "\n",
    "    canvas.Modified()\n",
    "    canvas.Update()\n",
    "\n",
    "    # 'run_470000/HLT/TauMon/HLT_Efficiency/HLT_tau80_mediumRNN_tracktwoMVA_L1eTAU80/HLT_Efficiency_3P/EffHLT_tauPt_wrt_Offline'\n",
    "    \n",
    "    path_parts = path.split('/')\n",
    "    prong = 'NA'\n",
    "    if '1P' in path_parts[5]:\n",
    "        prong = '1P'\n",
    "    elif '3P' in path_parts[5]:\n",
    "        prong = '3P'\n",
    "    \n",
    "    legend = ROOT.TLegend(0.2, 0.87, 0.45, 0.7)\n",
    "    legend.SetHeader(path_parts[4] + ' ' + prong + ' ' + path_parts[6])\n",
    "    \n",
    "    header_entry = legend.GetListOfPrimitives().At(0)\n",
    "    header_entry.SetTextSize(20)\n",
    "    legend.SetTextSize(20)\n",
    "    legend.AddEntry(eff_ref, release_ref, \"lp\")\n",
    "    legend.AddEntry(eff_new, release_new, \"lp\")\n",
    "    legend.Draw()\n",
    "\n",
    "    canvas.Update()\n",
    "    ATLASlabel(0.2, 0.88, \"Internal\")\n",
    "\n",
    "    save_dir = 'plots/' + path_parts[4] + '/' + prong\n",
    "    if not os.path.exists(save_dir):\n",
    "        !mkdir -p {save_dir}\n",
    "    canvas.SaveAs(save_dir + '/' + path_parts[6] + '.png')\n",
    "\n",
    "    del canvas, legend\n",
    "\n",
    "for HLT_path in HLTpath_dir:\n",
    "    for prong in HLTpath_subdir:\n",
    "        for eff in HLTpath_eff:\n",
    "            eff_path = base_dir + '/' + HLT_path + '/' + prong + '/' + eff\n",
    "            compare_eff(eff_path,\n",
    "                        file_HIST_ref.Get(eff_path),\n",
    "                        file_HIST_new.Get(eff_path),\n",
    "                        '24.0.68',\n",
    "                        '24.0.72',\n",
    "                        ymin=0,\n",
    "                        ymax=1.6\n",
    "                       )"
   ]
  },
  {
   "cell_type": "code",
   "execution_count": null,
   "id": "d6694e4d-dfe3-43e4-91d1-788cc692b164",
   "metadata": {},
   "outputs": [],
   "source": []
  }
 ],
 "metadata": {
  "kernelspec": {
   "display_name": "Python 3 (ipykernel)",
   "language": "python",
   "name": "python3"
  },
  "language_info": {
   "codemirror_mode": {
    "name": "ipython",
    "version": 3
   },
   "file_extension": ".py",
   "mimetype": "text/x-python",
   "name": "python",
   "nbconvert_exporter": "python",
   "pygments_lexer": "ipython3",
   "version": "3.9.20"
  }
 },
 "nbformat": 4,
 "nbformat_minor": 5
}
